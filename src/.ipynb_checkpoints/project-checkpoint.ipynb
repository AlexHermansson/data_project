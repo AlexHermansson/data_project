{
 "cells": [
  {
   "cell_type": "markdown",
   "metadata": {},
   "source": [
    "# Project in Data Intensive Computing\n",
    "Authors: Alex Hermansson and Elin Samuelsson\n",
    "\n",
    "## Blabla Political Parties"
   ]
  },
  {
   "cell_type": "code",
   "execution_count": 100,
   "metadata": {},
   "outputs": [
    {
     "name": "stdout",
     "output_type": "stream",
     "text": [
      "Requirement already satisfied: pyspark in /Library/Frameworks/Python.framework/Versions/3.6/lib/python3.6/site-packages (2.3.2)\n",
      "Requirement already satisfied: py4j==0.10.7 in /Library/Frameworks/Python.framework/Versions/3.6/lib/python3.6/site-packages (from pyspark) (0.10.7)\n",
      "\u001b[33mYou are using pip version 10.0.1, however version 18.1 is available.\n",
      "You should consider upgrading via the 'pip install --upgrade pip' command.\u001b[0m\n"
     ]
    }
   ],
   "source": [
    "import sys\n",
    "!{sys.executable} -m pip install pyspark"
   ]
  },
  {
   "cell_type": "markdown",
   "metadata": {},
   "source": [
    "## SparkSession\n",
    "\n",
    "In this cell, we simply initiliaze the sparkSession and create some useful variables such as the paths to the json files containing votes (and other metadata)."
   ]
  },
  {
   "cell_type": "code",
   "execution_count": 101,
   "metadata": {},
   "outputs": [],
   "source": [
    "import os\n",
    "from pyspark.sql import SparkSession\n",
    "\n",
    "spark = SparkSession.builder.master(\"local[*]\").appName(\"DataIntensive project\").getOrCreate()\n",
    "\n",
    "top_dir = \"../data\"\n",
    "paths = [os.path.join(top_dir, path)\n",
    "         for path in os.listdir(top_dir) \n",
    "         if path.endswith(\".json\")]"
   ]
  },
  {
   "cell_type": "markdown",
   "metadata": {},
   "source": [
    "## Data Cleaning\n",
    "\n",
    "In the cell below, we clean the json files, which are on some sort of weird format"
   ]
  },
  {
   "cell_type": "code",
   "execution_count": null,
   "metadata": {},
   "outputs": [],
   "source": [
    "def clean_json(path_to_file):\n",
    "    f = open(path_to_file, \"r\")\n",
    "    lines = f.readlines()\n",
    "    length = len(lines)\n",
    "    f.close()\n",
    "\n",
    "    all_lines = []\n",
    "    for i, line in enumerate(lines):\n",
    "        if i not in [0, 1, 2, length-1, length-2, length-3]:\n",
    "            all_lines.append(line)\n",
    "\n",
    "    lines_str = ''.join(all_lines)\n",
    "    lines = lines_str.split(\"},\")\n",
    "    lines = ''.join([line + \"}\" for line in lines[:-1]])\n",
    "    lines = lines.replace('\\n', '')\n",
    "    lines = lines.replace('}', '}\\n')\n",
    "    lines = lines.replace('  ', '')\n",
    "    lines = lines.replace(',', ', ')\n",
    "    \n",
    "    ## Move this into a map function?\n",
    "    lines = lines.replace('Ja', '1')\n",
    "    lines = lines.replace('Nej', '0')\n",
    "    lines = lines.replace('Avstår', '-1')\n",
    "    lines = lines.replace('Frånvarande', '-2')\n",
    "\n",
    "    with open(path_to_file, \"w\") as f:\n",
    "        for line in lines:\n",
    "            f.write(line)\n",
    "            \n",
    "def clean_data():\n",
    "    for path in paths:\n",
    "        clean_json(path)\n",
    "\n",
    "## Only run the following function if the data needs cleaning.. if its already \"clean\", it messes it up completely\n",
    "# clean_data()"
   ]
  },
  {
   "cell_type": "markdown",
   "metadata": {},
   "source": [
    "## Static Information\n",
    "\n",
    "Here we store the information that is static with respect to different voting rounds. It includes names, political parties etc. Also, we map the Swedish names to English ones and we modify one column to store age instead of year of birth."
   ]
  },
  {
   "cell_type": "code",
   "execution_count": 88,
   "metadata": {},
   "outputs": [
    {
     "name": "stdout",
     "output_type": "stream",
     "text": [
      "+--------------------+-----+------+--------------------+---+\n",
      "|                name|party|   sex|        constituency|age|\n",
      "+--------------------+-----+------+--------------------+---+\n",
      "|      Andreas Norlén|    M|   man|   Östergötlands län| 45|\n",
      "|     Ulrika Carlsson|    C|kvinna|Västra Götalands ...| 53|\n",
      "| Margareta Cederfelt|    M|kvinna|   Stockholms kommun| 59|\n",
      "|   Christina Östberg|   SD|kvinna|          Kalmar län| 50|\n",
      "|   Cecilia Magnusson|    M|kvinna|    Göteborgs kommun| 56|\n",
      "|     Penilla Gunther|   KD|kvinna|Västra Götalands ...| 54|\n",
      "|      Jonas Eriksson|   MP|   man|          Örebro län| 51|\n",
      "|          Per Åsling|    C|   man|       Jämtlands län| 61|\n",
      "|      Peter Jeppsson|    S|   man|        Blekinge län| 50|\n",
      "|         Lawen Redar|    S|kvinna|   Stockholms kommun| 29|\n",
      "|      1n R Andersson|    M|   man|          Kalmar län| 48|\n",
      "|    Robert Stenkvist|   SD|   man|Västra Götalands ...| 60|\n",
      "|      Johan Forssell|    M|   man|   Stockholms kommun| 39|\n",
      "|Annika Hirvonen Falk|   MP|kvinna|      Stockholms län| 29|\n",
      "|       Sara Karlsson|    S|kvinna|   Södermanlands län| 33|\n",
      "|     Andreas Carlson|   KD|   man|      Jönköpings län| 31|\n",
      "|       Aron Emilsson|   SD|   man|   Skåne läns västra| 28|\n",
      "|      Finn Bengtsson|    M|   man|   Östergötlands län| 62|\n",
      "|      Sten Bergheden|    M|   man|Västra Götalands ...| 53|\n",
      "|     Désirée Pethrus|   KD|kvinna|   Stockholms kommun| 59|\n",
      "+--------------------+-----+------+--------------------+---+\n",
      "only showing top 20 rows\n",
      "\n"
     ]
    }
   ],
   "source": [
    "df_ = spark.read.json(os.path.join(top_dir, paths[0]))\n",
    "df_info = df_.select(df_[\"namn\"].alias(\"name\"), \n",
    "                     df_[\"parti\"].alias(\"party\"),\n",
    "                     df_[\"kon\"].alias(\"sex\"),\n",
    "                     df_[\"valkrets\"].alias(\"constituency\"),\n",
    "                     (2018 - df_[\"fodd\"]).alias(\"age\").cast(\"int\")\n",
    "                    )\n",
    "df_info.show()"
   ]
  },
  {
   "cell_type": "markdown",
   "metadata": {},
   "source": [
    "## Creating Features\n",
    "\n",
    "Below, we merge the votes for different rounds into our final DataFrame. Here we have all the \"static\" information for each parliment member, and also their votes.\n",
    "We have chosen to map the votes as the following:\n",
    "- \"Yes\" to 1, \n",
    "- \"No\" to 0, \n",
    "- \"Refrain\" to -1, \n",
    "- \"Absent\" to -2."
   ]
  },
  {
   "cell_type": "code",
   "execution_count": 96,
   "metadata": {},
   "outputs": [],
   "source": [
    "# vote_to_int = {\"Ja\": 1, \"Nej\": 0, \"Avstår\": -1, \"Frånvarande\": -2}\n",
    "# .rdd.map(lambda vote: vote_to_int[vote])\n",
    "df = df_info\n",
    "for question_number, path in enumerate(paths[:10], 1):\n",
    "    column_name = \"q%s\" % question_number\n",
    "    df_i = spark.read.json(os.path.join(top_dir, path))\n",
    "    df_vote = df_i.select(df_i[\"namn\"].alias(\"name\"), df_i[\"rost\"].alias(column_name))\n",
    "    df = df.join(df_vote, \"name\")"
   ]
  },
  {
   "cell_type": "code",
   "execution_count": 97,
   "metadata": {},
   "outputs": [
    {
     "name": "stdout",
     "output_type": "stream",
     "text": [
      "+--------------------+-----+------+--------------------+---+---+---+---+---+---+---+---+---+---+---+\n",
      "|                name|party|   sex|        constituency|age| q1| q2| q3| q4| q5| q6| q7| q8| q9|q10|\n",
      "+--------------------+-----+------+--------------------+---+---+---+---+---+---+---+---+---+---+---+\n",
      "|      Andreas Norlén|    M|   man|   Östergötlands län| 45| -1|  0|  1|  1|  0|  1|  0|  1| -2|  1|\n",
      "|     Ulrika Carlsson|    C|kvinna|Västra Götalands ...| 53| -1|  0| -1|  1|  1|  1| -2|  0|  1|  1|\n",
      "| Margareta Cederfelt|    M|kvinna|   Stockholms kommun| 59| -1|  0| -2|  1| -2|  1|  0|  1|  1| -2|\n",
      "|   Christina Östberg|   SD|kvinna|          Kalmar län| 50|  0|  1|  0|  0|  1|  1|  1|  1|  1|  0|\n",
      "|   Cecilia Magnusson|    M|kvinna|    Göteborgs kommun| 56| -1|  0|  1|  1|  0|  1|  0|  1|  1|  1|\n",
      "|     Penilla Gunther|   KD|kvinna|Västra Götalands ...| 54| -1|  0| -2| -2|  1|  0|  0|  1| -2|  1|\n",
      "|      Jonas Eriksson|   MP|   man|          Örebro län| 51|  1|  1|  1| -2| -2|  1|  1|  1|  1|  1|\n",
      "|          Per Åsling|    C|   man|       Jämtlands län| 61| -1|  0| -2|  1|  1|  1|  0| -2|  1|  1|\n",
      "|      Peter Jeppsson|    S|   man|        Blekinge län| 50|  1|  1|  1|  1|  1|  1|  1|  1| -2| -2|\n",
      "|         Lawen Redar|    S|kvinna|   Stockholms kommun| 29|  1|  1|  1|  1|  1|  1|  1|  1|  1| -2|\n",
      "|      1n R Andersson|    M|   man|          Kalmar län| 48| -1|  0|  1|  1|  0|  1|  0|  1|  1|  1|\n",
      "|    Robert Stenkvist|   SD|   man|Västra Götalands ...| 60|  0|  1|  0|  0|  1|  1|  1|  1|  1|  0|\n",
      "|      Johan Forssell|    M|   man|   Stockholms kommun| 39| -1|  0|  1|  1|  0| -2|  0|  1|  1|  1|\n",
      "|Annika Hirvonen Falk|   MP|kvinna|      Stockholms län| 29|  1|  1|  1|  1|  1| -2|  1|  1|  1|  1|\n",
      "|       Sara Karlsson|    S|kvinna|   Södermanlands län| 33|  1|  1|  1|  1|  1|  1|  1|  1|  1|  1|\n",
      "|     Andreas Carlson|   KD|   man|      Jönköpings län| 31| -1|  0| -1|  1|  1|  0|  0|  1|  0|  1|\n",
      "|      Finn Bengtsson|    M|   man|   Östergötlands län| 62| -1|  0|  1|  1|  0|  1| -2|  1|  1|  1|\n",
      "|      Sten Bergheden|    M|   man|Västra Götalands ...| 53| -1|  0|  1|  1|  0| -2|  0|  1|  1|  1|\n",
      "|     Désirée Pethrus|   KD|kvinna|   Stockholms kommun| 59| -1|  0| -1|  1|  1|  0|  0|  1|  0|  1|\n",
      "|    Gunilla Carlsson|    S|kvinna|    Göteborgs kommun| 52| -2| -2|  1|  1|  1|  1|  1| -2|  1|  1|\n",
      "+--------------------+-----+------+--------------------+---+---+---+---+---+---+---+---+---+---+---+\n",
      "only showing top 20 rows\n",
      "\n"
     ]
    }
   ],
   "source": [
    "df.show()"
   ]
  },
  {
   "cell_type": "code",
   "execution_count": null,
   "metadata": {
    "collapsed": true
   },
   "outputs": [],
   "source": []
  }
 ],
 "metadata": {
  "kernelspec": {
   "display_name": "Python 3",
   "language": "python",
   "name": "python3"
  },
  "language_info": {
   "codemirror_mode": {
    "name": "ipython",
    "version": 3
   },
   "file_extension": ".py",
   "mimetype": "text/x-python",
   "name": "python",
   "nbconvert_exporter": "python",
   "pygments_lexer": "ipython3",
   "version": "3.6.0"
  }
 },
 "nbformat": 4,
 "nbformat_minor": 2
}
