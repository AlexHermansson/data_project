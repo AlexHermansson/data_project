{
 "cells": [
  {
   "cell_type": "markdown",
   "metadata": {},
   "source": [
    "# Project in Data Intensive Computing\n",
    "Authors: Alex Hermansson and Elin Samuelsson\n",
    "\n",
    "## Blabla Political Parties"
   ]
  },
  {
   "cell_type": "code",
   "execution_count": 1,
   "metadata": {},
   "outputs": [
    {
     "name": "stdout",
     "output_type": "stream",
     "text": [
      "Requirement already satisfied: pyspark in /Library/Frameworks/Python.framework/Versions/3.6/lib/python3.6/site-packages (2.3.2)\n",
      "Requirement already satisfied: py4j==0.10.7 in /Library/Frameworks/Python.framework/Versions/3.6/lib/python3.6/site-packages (from pyspark) (0.10.7)\n",
      "\u001b[33mYou are using pip version 10.0.1, however version 18.1 is available.\n",
      "You should consider upgrading via the 'pip install --upgrade pip' command.\u001b[0m\n"
     ]
    }
   ],
   "source": [
    "import sys\n",
    "!{sys.executable} -m pip install pyspark"
   ]
  },
  {
   "cell_type": "markdown",
   "metadata": {},
   "source": [
    "## SparkSession\n",
    "\n",
    "In this cell, we simply initiliaze the sparkSession and create some useful variables such as the paths to the json files containing votes (and other metadata)."
   ]
  },
  {
   "cell_type": "code",
   "execution_count": 2,
   "metadata": {
    "collapsed": true
   },
   "outputs": [],
   "source": [
    "import os\n",
    "from pyspark.sql import SparkSession\n",
    "from pyspark.mllib.linalg.distributed import RowMatrix\n",
    "\n",
    "spark = SparkSession.builder.master(\"local[*]\").appName(\"DataIntensive project\").getOrCreate()\n",
    "\n",
    "top_dir = \"../data\"\n",
    "paths = [os.path.join(top_dir, path)\n",
    "         for path in os.listdir(top_dir) \n",
    "         if path.endswith(\".json\")]"
   ]
  },
  {
   "cell_type": "markdown",
   "metadata": {},
   "source": [
    "## Data Cleaning\n",
    "\n",
    "In the cell below, we clean the json files (they are on some sort of weird format)."
   ]
  },
  {
   "cell_type": "code",
   "execution_count": 3,
   "metadata": {
    "collapsed": true
   },
   "outputs": [],
   "source": [
    "def clean_json(path_to_file):\n",
    "    f = open(path_to_file, \"r\")\n",
    "    lines = f.readlines()\n",
    "    length = len(lines)\n",
    "    f.close()\n",
    "\n",
    "    all_lines = []\n",
    "    for i, line in enumerate(lines):\n",
    "        if i not in [0, 1, 2, length-1, length-2, length-3, length-4]:\n",
    "            all_lines.append(line)\n",
    "\n",
    "    lines_str = ''.join(all_lines)\n",
    "    lines = lines_str.split(\"},\")\n",
    "    lines = ''.join([line + \"}\" for line in lines])\n",
    "    lines = lines.replace('\\n', '')\n",
    "    lines = lines.replace('}', '}\\n')\n",
    "    lines = lines.replace('  ', '')\n",
    "    lines = lines.replace(',', ', ')\n",
    "    \n",
    "    ## Move this into a map function?\n",
    "    lines = lines.replace('Ja', '1')\n",
    "    lines = lines.replace('Nej', '-1')\n",
    "    lines = lines.replace('Avstår', '0')\n",
    "    lines = lines.replace('Frånvarande', '0')\n",
    "\n",
    "    with open(path_to_file, \"w\") as f:\n",
    "        for line in lines:\n",
    "            f.write(line)\n",
    "            \n",
    "                        \n",
    "def clean_data():\n",
    "    for path in paths:\n",
    "        clean_json(path)\n",
    "    \n",
    "    # Removing paths with more than one voting round\n",
    "    popped_counter = 0\n",
    "    for i in range(len(paths)):\n",
    "        with open(paths[i - popped_counter]) as f:\n",
    "            lines = f.readlines()\n",
    "            l = len(lines)\n",
    "            if l != 349:\n",
    "                paths.pop(i - popped_counter)\n",
    "                popped_counter += 1"
   ]
  },
  {
   "cell_type": "markdown",
   "metadata": {},
   "source": [
    "## Only run the following function ONCE!"
   ]
  },
  {
   "cell_type": "code",
   "execution_count": null,
   "metadata": {
    "collapsed": true
   },
   "outputs": [],
   "source": [
    "clean_data()"
   ]
  }
 ],
 "metadata": {
  "kernelspec": {
   "display_name": "Python 3",
   "language": "python",
   "name": "python3"
  },
  "language_info": {
   "codemirror_mode": {
    "name": "ipython",
    "version": 3
   },
   "file_extension": ".py",
   "mimetype": "text/x-python",
   "name": "python",
   "nbconvert_exporter": "python",
   "pygments_lexer": "ipython3",
   "version": "3.6.0"
  }
 },
 "nbformat": 4,
 "nbformat_minor": 2
}
