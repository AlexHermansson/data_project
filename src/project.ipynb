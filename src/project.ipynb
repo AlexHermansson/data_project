{
 "cells": [
  {
   "cell_type": "code",
   "execution_count": null,
   "metadata": {
    "collapsed": true
   },
   "outputs": [],
   "source": [
    "# import sys\n",
    "!{sys.executable} -m pip install pyspark"
   ]
  },
  {
   "cell_type": "code",
   "execution_count": 2,
   "metadata": {
    "collapsed": true
   },
   "outputs": [],
   "source": [
    "from pyspark.sql import SparkSession\n",
    "\n",
    "spark = SparkSession.builder.appName(\"Python Spark SQL basic example\").config(\"spark.some.config.option\", \"some-value\").getOrCreate()"
   ]
  },
  {
   "cell_type": "code",
   "execution_count": 51,
   "metadata": {
    "collapsed": true
   },
   "outputs": [],
   "source": [
    "import json\n",
    "path = \"../data/votering-201617.json/H401AU1-1-B6C77723-93FD-415A-B3DB-A35D086748D3-Copy1.json\"\n",
    "\n",
    "f = open(path, \"r\")\n",
    "lines = f.readlines()\n",
    "length = len(lines)\n",
    "f.close()\n",
    "\n",
    "with open(path, \"w\") as f:\n",
    "    for i, line in enumerate(lines):\n",
    "        if i not in [0, 1, 2, length-1, length-2, length-3]:\n",
    "            f.write(line)"
   ]
  },
  {
   "cell_type": "code",
   "execution_count": 78,
   "metadata": {},
   "outputs": [],
   "source": [
    "df = spark.read.json(\"../data/votering-201617.json/H401AU1-1-B6C77723-93FD-415A-B3DB-A35D086748D3-Copy1.json\", multiLine=True)"
   ]
  },
  {
   "cell_type": "code",
   "execution_count": 79,
   "metadata": {},
   "outputs": [
    {
     "name": "stdout",
     "output_type": "stream",
     "text": [
      "root\n",
      " |-- avser: string (nullable = true)\n",
      " |-- banknummer: string (nullable = true)\n",
      " |-- beteckning: string (nullable = true)\n",
      " |-- datum: string (nullable = true)\n",
      " |-- efternamn: string (nullable = true)\n",
      " |-- fodd: string (nullable = true)\n",
      " |-- fornamn: string (nullable = true)\n",
      " |-- hangar_id: string (nullable = true)\n",
      " |-- intressent_id: string (nullable = true)\n",
      " |-- iort: string (nullable = true)\n",
      " |-- kon: string (nullable = true)\n",
      " |-- namn: string (nullable = true)\n",
      " |-- parti: string (nullable = true)\n",
      " |-- punkt: string (nullable = true)\n",
      " |-- rm: string (nullable = true)\n",
      " |-- rost: string (nullable = true)\n",
      " |-- valkrets: string (nullable = true)\n",
      " |-- valkretsnummer: string (nullable = true)\n",
      " |-- votering: string (nullable = true)\n",
      " |-- votering_id: string (nullable = true)\n",
      "\n"
     ]
    }
   ],
   "source": [
    "df.printSchema()"
   ]
  },
  {
   "cell_type": "code",
   "execution_count": 76,
   "metadata": {},
   "outputs": [
    {
     "name": "stdout",
     "output_type": "stream",
     "text": [
      "+--------------------+\n",
      "|         dokvotering|\n",
      "+--------------------+\n",
      "|[[[sakfrågan, 40,...|\n",
      "+--------------------+\n",
      "\n"
     ]
    }
   ],
   "source": [
    "df.select(\"dokvotering\").show()"
   ]
  },
  {
   "cell_type": "code",
   "execution_count": null,
   "metadata": {
    "collapsed": true
   },
   "outputs": [],
   "source": []
  }
 ],
 "metadata": {
  "kernelspec": {
   "display_name": "Python 3",
   "language": "python",
   "name": "python3"
  },
  "language_info": {
   "codemirror_mode": {
    "name": "ipython",
    "version": 3
   },
   "file_extension": ".py",
   "mimetype": "text/x-python",
   "name": "python",
   "nbconvert_exporter": "python",
   "pygments_lexer": "ipython3",
   "version": "3.6.0"
  }
 },
 "nbformat": 4,
 "nbformat_minor": 2
}
